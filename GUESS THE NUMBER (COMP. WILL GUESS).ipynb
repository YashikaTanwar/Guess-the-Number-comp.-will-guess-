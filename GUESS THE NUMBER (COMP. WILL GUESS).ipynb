{
 "cells": [
  {
   "cell_type": "code",
   "execution_count": 2,
   "metadata": {},
   "outputs": [
    {
     "data": {
      "text/plain": [
       "'\\nHere the computer is guessing the random number and we have to enter whether\\nthe input value is high (H),low(L) or correct(C) '"
      ]
     },
     "execution_count": 2,
     "metadata": {},
     "output_type": "execute_result"
    }
   ],
   "source": [
    "\"\"\"\n",
    "Here the computer is guessing the random number and we have to enter whether\n",
    "the input value is high (H),low(L) or correct(C) \"\"\""
   ]
  },
  {
   "cell_type": "code",
   "execution_count": 1,
   "metadata": {},
   "outputs": [
    {
     "name": "stdout",
     "output_type": "stream",
     "text": [
      "is 3 Too high(H),Too low(L) or correct(C)l\n",
      "is 7 Too high(H),Too low(L) or correct(C)h\n",
      "is 6 Too high(H),Too low(L) or correct(C)h\n",
      "is 4 Too high(H),Too low(L) or correct(C)c\n",
      "comp. guessed your number,4,correcty\n"
     ]
    }
   ],
   "source": [
    "import random\n",
    "\n",
    "def computer_guess(x):\n",
    "    low=1\n",
    "    high=x\n",
    "    feedback=\"\" #feedback--> whether the no. is too high or too low, have to enter h,l or c \n",
    "    while(feedback!='c'):\n",
    "        if low!=high:  # low and high value are never equal\n",
    "            # will print any random value between 1 and \"x\" to check if its equal to our answer\n",
    "            guess=random.randint(low,high)  \n",
    "        else:\n",
    "            guess=low\n",
    "        feedback=input(f\"is {guess} Too high(H),Too low(L) or correct(C)\").lower()\n",
    "        if feedback=='h': # if the guess no. is high then we will substract 1 from it.\n",
    "            high=guess-1\n",
    "        elif feedback==\"l\":# if the guess no. is high then we will add 1 to it.\n",
    "            low=guess+1\n",
    "    print(f\"comp. guessed your number,{guess},correcty\")        \n",
    "computer_guess(10)            "
   ]
  },
  {
   "cell_type": "code",
   "execution_count": 5,
   "metadata": {},
   "outputs": [
    {
     "name": "stdout",
     "output_type": "stream",
     "text": [
      "is 4 too high(h),too low(l),correct(c)l\n",
      "is 9 too high(h),too low(l),correct(c)h\n",
      "is 6 too high(h),too low(l),correct(c)h\n",
      "is 5 too high(h),too low(l),correct(c)c\n",
      "congrats your comp. guessed ur no. correctly\n"
     ]
    }
   ],
   "source": [
    "import random\n",
    "def comp_guess(num):\n",
    "    low=1\n",
    "    high=num\n",
    "    answer=\"\"\n",
    "    while(answer!='c'):\n",
    "        if low!=high:\n",
    "            guess=random.randint(low,high)\n",
    "        else:\n",
    "            guess=low\n",
    "        answer=input(f\"is {guess} too high(h),too low(l),correct(c)\").lower()\n",
    "        if answer=='h':\n",
    "            high=guess-1\n",
    "        elif answer=='l':\n",
    "            low=guess+1\n",
    "    print(\"congrats your comp. guessed ur no. correctly\")\n",
    "comp_guess(10)    "
   ]
  },
  {
   "cell_type": "code",
   "execution_count": null,
   "metadata": {},
   "outputs": [],
   "source": []
  }
 ],
 "metadata": {
  "kernelspec": {
   "display_name": "Python 3",
   "language": "python",
   "name": "python3"
  },
  "language_info": {
   "codemirror_mode": {
    "name": "ipython",
    "version": 3
   },
   "file_extension": ".py",
   "mimetype": "text/x-python",
   "name": "python",
   "nbconvert_exporter": "python",
   "pygments_lexer": "ipython3",
   "version": "3.8.5"
  }
 },
 "nbformat": 4,
 "nbformat_minor": 4
}
